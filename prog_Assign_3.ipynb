{
 "cells": [
  {
   "cell_type": "markdown",
   "id": "f48e3b52",
   "metadata": {},
   "source": [
    "1.\tWrite a Python Program to Check if a Number is Positive, Negative or Zero?"
   ]
  },
  {
   "cell_type": "code",
   "execution_count": 10,
   "id": "58986017",
   "metadata": {},
   "outputs": [
    {
     "name": "stdout",
     "output_type": "stream",
     "text": [
      "enter a numer to check positive or negetive:-1\n",
      "-1 is negitive\n"
     ]
    }
   ],
   "source": [
    "n=int(input('enter a numer to check positive or negetive:'))\n",
    "if n>0:\n",
    "    print(f'{n} is positive')\n",
    "elif n<0:\n",
    "    print(f'{n} is negitive')\n",
    "else:\n",
    "    print(f\" {n} is zero\")"
   ]
  },
  {
   "cell_type": "markdown",
   "id": "63c31fa7",
   "metadata": {},
   "source": [
    "2.\tWrite a Python Program to Check if a Number is Odd or Even?"
   ]
  },
  {
   "cell_type": "code",
   "execution_count": 13,
   "id": "24762d82",
   "metadata": {},
   "outputs": [
    {
     "name": "stdout",
     "output_type": "stream",
     "text": [
      "enter a numer to check even or odd greater the 0:1\n",
      "1 is odd\n"
     ]
    }
   ],
   "source": [
    "n=int(input('enter a numer to check even or odd greater the 0:'))\n",
    "if n%2==0:\n",
    "    print(f\"{n} is even\")\n",
    "else:\n",
    "    print(F\"{n} is odd\")"
   ]
  },
  {
   "cell_type": "markdown",
   "id": "4906c4bb",
   "metadata": {},
   "source": [
    "3.\tWrite a Python Program to Check Leap Year?"
   ]
  },
  {
   "cell_type": "code",
   "execution_count": 18,
   "id": "59415696",
   "metadata": {},
   "outputs": [
    {
     "name": "stdout",
     "output_type": "stream",
     "text": [
      "enter a year :2000\n",
      " 2000 is leap year\n"
     ]
    }
   ],
   "source": [
    "n=int(input('enter a year :'))\n",
    "if (n%4==0) & (n%100==0) &(n%400==0):\n",
    "    print(f\" {n} is leap year\")\n",
    "else:\n",
    "    print(f'{n} is not leap year')"
   ]
  },
  {
   "cell_type": "markdown",
   "id": "00578f49",
   "metadata": {},
   "source": [
    "4.\tWrite a Python Program to Check Prime Number?"
   ]
  },
  {
   "cell_type": "code",
   "execution_count": 32,
   "id": "0622163b",
   "metadata": {},
   "outputs": [
    {
     "name": "stdout",
     "output_type": "stream",
     "text": [
      "enter a number:12\n",
      "not prime\n"
     ]
    }
   ],
   "source": [
    "n=int(input('enter a number:'))\n",
    "flag=0\n",
    "for i in range(2,n):\n",
    "    if n%i==0:\n",
    "        flag=1\n",
    "        break\n",
    "if flag==0:\n",
    "    print(' prime')\n",
    "else:\n",
    "    print('not prime')"
   ]
  },
  {
   "cell_type": "markdown",
   "id": "e8ac5730",
   "metadata": {},
   "source": [
    "5.\tWrite a Python Program to Print all Prime Numbers in an Interval of 1-10000?"
   ]
  },
  {
   "cell_type": "code",
   "execution_count": 41,
   "id": "eb1075d5",
   "metadata": {},
   "outputs": [
    {
     "name": "stdout",
     "output_type": "stream",
     "text": [
      "2\n",
      "3\n",
      "5\n",
      "7\n",
      "11\n",
      "13\n",
      "17\n",
      "19\n",
      "23\n",
      "29\n",
      "31\n",
      "37\n",
      "41\n",
      "43\n",
      "47\n",
      "53\n",
      "59\n",
      "61\n",
      "67\n",
      "71\n",
      "73\n",
      "79\n",
      "83\n",
      "89\n",
      "97\n"
     ]
    }
   ],
   "source": [
    "l=0\n",
    "u=100\n",
    "for num in range(l,u+1):\n",
    "    if num>1:\n",
    "        for i in range(2,num):\n",
    "            if num%i==0:\n",
    "                break\n",
    "        else:\n",
    "            print(num)"
   ]
  },
  {
   "cell_type": "code",
   "execution_count": null,
   "id": "ce64c6d1",
   "metadata": {},
   "outputs": [],
   "source": []
  }
 ],
 "metadata": {
  "kernelspec": {
   "display_name": "Python 3",
   "language": "python",
   "name": "python3"
  },
  "language_info": {
   "codemirror_mode": {
    "name": "ipython",
    "version": 3
   },
   "file_extension": ".py",
   "mimetype": "text/x-python",
   "name": "python",
   "nbconvert_exporter": "python",
   "pygments_lexer": "ipython3",
   "version": "3.8.8"
  }
 },
 "nbformat": 4,
 "nbformat_minor": 5
}
