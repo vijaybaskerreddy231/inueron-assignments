{
 "cells": [
  {
   "cell_type": "markdown",
   "id": "6f191429",
   "metadata": {},
   "source": [
    "1.\tWrite a Python program to convert kilometers to miles?"
   ]
  },
  {
   "cell_type": "code",
   "execution_count": 6,
   "id": "e25eb8a2",
   "metadata": {},
   "outputs": [
    {
     "name": "stdout",
     "output_type": "stream",
     "text": [
      "enter a number in km:-2\n",
      "miles  1.26\n"
     ]
    }
   ],
   "source": [
    "n=int(input('enter a number in km:-'))\n",
    "print(\"miles \",0.63*n)"
   ]
  },
  {
   "cell_type": "markdown",
   "id": "d2d57b55",
   "metadata": {},
   "source": [
    "2.\tWrite a Python program to convert Celsius to Fahrenheit?"
   ]
  },
  {
   "cell_type": "code",
   "execution_count": 7,
   "id": "be13c30c",
   "metadata": {},
   "outputs": [
    {
     "name": "stdout",
     "output_type": "stream",
     "text": [
      "enter an num in celsius:1\n",
      "33.8\n"
     ]
    }
   ],
   "source": [
    "n=int(input('enter an num in celsius:'))\n",
    "f=(n*9/5)+32\n",
    "print(f)"
   ]
  },
  {
   "cell_type": "markdown",
   "id": "1dec3d9d",
   "metadata": {},
   "source": [
    "3.Write a Python program to display calendar?"
   ]
  },
  {
   "cell_type": "code",
   "execution_count": 11,
   "id": "d3e9c5f5",
   "metadata": {},
   "outputs": [
    {
     "name": "stdout",
     "output_type": "stream",
     "text": [
      "    August 2021\n",
      "Mo Tu We Th Fr Sa Su\n",
      "                   1\n",
      " 2  3  4  5  6  7  8\n",
      " 9 10 11 12 13 14 15\n",
      "16 17 18 19 20 21 22\n",
      "23 24 25 26 27 28 29\n",
      "30 31\n",
      "\n"
     ]
    }
   ],
   "source": [
    "import calendar\n",
    "y=2021\n",
    "m=8\n",
    "print(calendar.month(y,m))"
   ]
  },
  {
   "cell_type": "markdown",
   "id": "44b11ec8",
   "metadata": {},
   "source": [
    "4.Write a Python program to solve quadratic equation?"
   ]
  },
  {
   "cell_type": "code",
   "execution_count": 14,
   "id": "bdb1a3d6",
   "metadata": {},
   "outputs": [
    {
     "name": "stdout",
     "output_type": "stream",
     "text": [
      "enter a val10\n",
      "enter b val20\n",
      "enter c val30\n",
      "-800\n"
     ]
    }
   ],
   "source": [
    "#d=b^2-4ac\n",
    "a=int(input('enter a val'))\n",
    "a=int(input('enter b val'))\n",
    "n3=int(input('enter c val'))\n",
    "d=n2**2-4*n1*n3\n",
    "print(d)"
   ]
  },
  {
   "cell_type": "markdown",
   "id": "b4e4f36c",
   "metadata": {},
   "source": [
    "5.Write a Python program to swap two variables without temp variable"
   ]
  },
  {
   "cell_type": "code",
   "execution_count": 13,
   "id": "27024965",
   "metadata": {},
   "outputs": [
    {
     "name": "stdout",
     "output_type": "stream",
     "text": [
      "10 20\n",
      "20 10\n"
     ]
    }
   ],
   "source": [
    "a,b=10,20\n",
    "print(a,b)\n",
    "a,b=b,a\n",
    "print(a,b)"
   ]
  },
  {
   "cell_type": "code",
   "execution_count": null,
   "id": "542f1f59",
   "metadata": {},
   "outputs": [],
   "source": []
  }
 ],
 "metadata": {
  "kernelspec": {
   "display_name": "Python 3",
   "language": "python",
   "name": "python3"
  },
  "language_info": {
   "codemirror_mode": {
    "name": "ipython",
    "version": 3
   },
   "file_extension": ".py",
   "mimetype": "text/x-python",
   "name": "python",
   "nbconvert_exporter": "python",
   "pygments_lexer": "ipython3",
   "version": "3.8.8"
  }
 },
 "nbformat": 4,
 "nbformat_minor": 5
}
