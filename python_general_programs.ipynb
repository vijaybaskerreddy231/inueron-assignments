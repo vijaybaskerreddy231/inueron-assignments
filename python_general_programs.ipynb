{
 "cells": [
  {
   "cell_type": "markdown",
   "id": "9b80b992",
   "metadata": {},
   "source": [
    "1.write a program to print fibnocci sequence?"
   ]
  },
  {
   "cell_type": "code",
   "execution_count": 2,
   "id": "3cf926f0",
   "metadata": {},
   "outputs": [
    {
     "name": "stdout",
     "output_type": "stream",
     "text": [
      "enter no.of terms5\n",
      "1\n",
      "2\n",
      "3\n",
      "5\n",
      "8\n"
     ]
    }
   ],
   "source": [
    "def fib(n1,n2):\n",
    "    p=int(input('enter no.of terms'))\n",
    "    for i in range(p):\n",
    "            n3=n2+n1\n",
    "            n1=n2\n",
    "            n2=n3\n",
    "            print(n3)\n",
    "fib(0,1)"
   ]
  },
  {
   "cell_type": "markdown",
   "id": "c0a7bd26",
   "metadata": {},
   "source": [
    "2.write a program to print factorial of number?"
   ]
  },
  {
   "cell_type": "code",
   "execution_count": 3,
   "id": "511dc4d3",
   "metadata": {},
   "outputs": [
    {
     "name": "stdout",
     "output_type": "stream",
     "text": [
      "enter a number to find factorial:5\n"
     ]
    },
    {
     "data": {
      "text/plain": [
       "120"
      ]
     },
     "execution_count": 3,
     "metadata": {},
     "output_type": "execute_result"
    }
   ],
   "source": [
    "def fact(n):\n",
    "    if n==1:\n",
    "        return 1\n",
    "    return n*fact(n-1)\n",
    "p=int(input('enter a number to find factorial:'))\n",
    "fact(p)"
   ]
  },
  {
   "cell_type": "markdown",
   "id": "63d75090",
   "metadata": {},
   "source": [
    "3.find a sum of a given number and reverse it?"
   ]
  },
  {
   "cell_type": "code",
   "execution_count": 7,
   "id": "f60ea645",
   "metadata": {},
   "outputs": [
    {
     "name": "stdout",
     "output_type": "stream",
     "text": [
      "sum is  6\n",
      "revers of num is 210\n"
     ]
    }
   ],
   "source": [
    "def sum(n):\n",
    "    s=0\n",
    "    rev=0\n",
    "    \n",
    "    while(n!=0):\n",
    "            s=s+n%10\n",
    "            n=n//10\n",
    "            rev=(rev*10)+n%10\n",
    "    print(\"sum is \",s)\n",
    "    print(\"revers of num is\",rev)\n",
    "sum(123)\n",
    "    "
   ]
  },
  {
   "cell_type": "markdown",
   "id": "adcd2393",
   "metadata": {},
   "source": [
    "4.swap two number without using temp varable?\n"
   ]
  },
  {
   "cell_type": "code",
   "execution_count": 8,
   "id": "899975ad",
   "metadata": {},
   "outputs": [
    {
     "name": "stdout",
     "output_type": "stream",
     "text": [
      "10 20\n",
      "20 10\n"
     ]
    }
   ],
   "source": [
    "a,b=10,20\n",
    "print(a,b)\n",
    "a,b=b,a\n",
    "print(a,b)"
   ]
  },
  {
   "cell_type": "markdown",
   "id": "f7fe641c",
   "metadata": {},
   "source": [
    "5. Find Numeriacl palindrome?"
   ]
  },
  {
   "cell_type": "code",
   "execution_count": 9,
   "id": "adfe69c0",
   "metadata": {},
   "outputs": [
    {
     "name": "stdout",
     "output_type": "stream",
     "text": [
      "Enter a number:123\n",
      "Not a palindrome!\n"
     ]
    }
   ],
   "source": [
    "num=int(input(\"Enter a number:\"))\n",
    "temp=num\n",
    "rev=0\n",
    "while(num>0):\n",
    "    rev=rev*10+num%10\n",
    "    num=num//10\n",
    "if(temp==rev):\n",
    "    print(\"The number is palindrome!\")\n",
    "else:\n",
    "    print(\"Not a palindrome!\")"
   ]
  },
  {
   "cell_type": "markdown",
   "id": "45ce1940",
   "metadata": {},
   "source": [
    "6. write a program to check perfect square?"
   ]
  },
  {
   "cell_type": "code",
   "execution_count": 10,
   "id": "68f32f71",
   "metadata": {},
   "outputs": [
    {
     "data": {
      "text/plain": [
       "False"
      ]
     },
     "execution_count": 10,
     "metadata": {},
     "output_type": "execute_result"
    }
   ],
   "source": [
    "import math\n",
    "def perfect_square(n):\n",
    "    if n>0:\n",
    "        sq=math.sqrt(n)\n",
    "    return (sq*sq==float(n))\n",
    "perfect_square(20)"
   ]
  },
  {
   "cell_type": "markdown",
   "id": "fb7118ee",
   "metadata": {},
   "source": [
    "7.program to check amstrong number or not"
   ]
  },
  {
   "cell_type": "code",
   "execution_count": 13,
   "id": "6815be3f",
   "metadata": {},
   "outputs": [
    {
     "name": "stdout",
     "output_type": "stream",
     "text": [
      "153 yes the number is amstrong number\n"
     ]
    },
    {
     "data": {
      "text/plain": [
       "153"
      ]
     },
     "execution_count": 13,
     "metadata": {},
     "output_type": "execute_result"
    }
   ],
   "source": [
    "def amstrong(n):\n",
    "    #p=len(n)\n",
    "    temp=n\n",
    "    n1=0\n",
    "    while temp>0:\n",
    "        digit=temp%10\n",
    "        n1=n1+digit**3\n",
    "        temp=temp//10\n",
    "    if n==n1:\n",
    "        print(f'{n} yes the number is amstrong number')\n",
    "    else :\n",
    "        print(f'{n} No it is not an amstrong number')\n",
    "    return n1\n",
    "amstrong(153)\n",
    "\n",
    "        \n",
    "        "
   ]
  },
  {
   "cell_type": "markdown",
   "id": "aa5b74d5",
   "metadata": {},
   "source": [
    "8.write a programe to find prime number"
   ]
  },
  {
   "cell_type": "code",
   "execution_count": 14,
   "id": "85bb557d",
   "metadata": {},
   "outputs": [
    {
     "name": "stdout",
     "output_type": "stream",
     "text": [
      "prime\n"
     ]
    }
   ],
   "source": [
    "def prime(n):\n",
    "    flag=0\n",
    "    for i in range(2,n):\n",
    "        if n%i==0:\n",
    "            flag=1\n",
    "            break\n",
    "    if flag==0:\n",
    "        print('prime')\n",
    "    else:\n",
    "        print('Not a prime')\n",
    "prime(5)"
   ]
  },
  {
   "cell_type": "markdown",
   "id": "7fedf970",
   "metadata": {},
   "source": [
    "9.program to find even or odd"
   ]
  },
  {
   "cell_type": "code",
   "execution_count": 15,
   "id": "eaa4b209",
   "metadata": {},
   "outputs": [
    {
     "name": "stdout",
     "output_type": "stream",
     "text": [
      "55 is odd number\n"
     ]
    }
   ],
   "source": [
    "def check_even_odd(n):\n",
    "    if n%2==0:\n",
    "        print(f'{n} is Even number')\n",
    "    else:\n",
    "        print(f'{n} is odd number')\n",
    "check_even_odd(55)"
   ]
  },
  {
   "cell_type": "markdown",
   "id": "b65ebc85",
   "metadata": {},
   "source": [
    "10.find the leap years from 1-N"
   ]
  },
  {
   "cell_type": "code",
   "execution_count": 20,
   "id": "f6511da3",
   "metadata": {},
   "outputs": [
    {
     "name": "stdout",
     "output_type": "stream",
     "text": [
      "leap year\n"
     ]
    },
    {
     "data": {
      "text/plain": [
       "1200"
      ]
     },
     "execution_count": 20,
     "metadata": {},
     "output_type": "execute_result"
    }
   ],
   "source": [
    "def check_leap_year(n):\n",
    "    if (n%400==0) and (n%100==0) and (n%4==0):\n",
    "        print('leap year')\n",
    "    else :\n",
    "        print(\"not a leap year\")\n",
    "    return n\n",
    "check_leap_year(1200)"
   ]
  },
  {
   "cell_type": "markdown",
   "id": "64bc2ed3",
   "metadata": {},
   "source": [
    "11.convert degress 'C to 'fr"
   ]
  },
  {
   "cell_type": "code",
   "execution_count": 21,
   "id": "5c2749ae",
   "metadata": {},
   "outputs": [
    {
     "name": "stdout",
     "output_type": "stream",
     "text": [
      "enter an num in celsius:5\n",
      "41.0\n"
     ]
    }
   ],
   "source": [
    "n=int(input('enter an num in celsius:'))\n",
    "f=(n*9/5)+32\n",
    "print(f)"
   ]
  },
  {
   "cell_type": "markdown",
   "id": "69937101",
   "metadata": {},
   "source": [
    "12.convert number decimal to binary "
   ]
  },
  {
   "cell_type": "code",
   "execution_count": 33,
   "id": "8d1f377c",
   "metadata": {},
   "outputs": [
    {
     "name": "stdout",
     "output_type": "stream",
     "text": [
      "0 1 "
     ]
    }
   ],
   "source": [
    "def decimal_to_binary(n):\n",
    "    if n>0:\n",
    "        decimal_to_binary(n//2)\n",
    "    print(n%2,end=' ')\n",
    "decimal_to_binary(1)"
   ]
  },
  {
   "cell_type": "code",
   "execution_count": null,
   "id": "73c8924f",
   "metadata": {},
   "outputs": [],
   "source": []
  },
  {
   "cell_type": "markdown",
   "id": "8ec922a6",
   "metadata": {},
   "source": [
    "13.convert binary to decimal"
   ]
  },
  {
   "cell_type": "code",
   "execution_count": 52,
   "id": "35f2b0c7",
   "metadata": {},
   "outputs": [
    {
     "data": {
      "text/plain": [
       "'1010'"
      ]
     },
     "execution_count": 52,
     "metadata": {},
     "output_type": "execute_result"
    }
   ],
   "source": [
    "def bin_to_dec(n):\n",
    "    return bin(n).replace('0b','')\n",
    "bin_to_dec(10)"
   ]
  },
  {
   "cell_type": "markdown",
   "id": "bcefbf08",
   "metadata": {},
   "source": [
    "14.comapre the two strings without predefine functions"
   ]
  },
  {
   "cell_type": "code",
   "execution_count": 37,
   "id": "7b3ac64d",
   "metadata": {},
   "outputs": [
    {
     "name": "stdout",
     "output_type": "stream",
     "text": [
      "both strings are same\n"
     ]
    }
   ],
   "source": [
    "a='reddy'\n",
    "b='reddy'\n",
    "flag=0\n",
    "for i in range(len(a)):\n",
    "    if a[i]!=b[i]:\n",
    "        flag=1\n",
    "if flag==1:\n",
    "    print('both strings not same')\n",
    "else:\n",
    "    print('both strings are same')"
   ]
  },
  {
   "cell_type": "markdown",
   "id": "22a3e309",
   "metadata": {},
   "source": [
    "15.copy the strings without using predefine functions"
   ]
  },
  {
   "cell_type": "code",
   "execution_count": 44,
   "id": "aee0239f",
   "metadata": {},
   "outputs": [
    {
     "name": "stdout",
     "output_type": "stream",
     "text": [
      "['r', 'e', 'd', 'd', 'y']\n"
     ]
    }
   ],
   "source": [
    "a='reddy'\n",
    "b=[]\n",
    "for i in range(len(a)):\n",
    "    b.append(a[i])\n",
    "print(b)"
   ]
  },
  {
   "cell_type": "markdown",
   "id": "2c6183cf",
   "metadata": {},
   "source": [
    "16.revese the given array"
   ]
  },
  {
   "cell_type": "code",
   "execution_count": 61,
   "id": "1dda00c1",
   "metadata": {},
   "outputs": [
    {
     "name": "stdout",
     "output_type": "stream",
     "text": [
      "[5, 4, 3, 2]\n"
     ]
    }
   ],
   "source": [
    "a=[1,2,3,4,5]\n",
    "b=[]\n",
    "for i in range(4,0,-1):\n",
    "    b.append(a[i])\n",
    "print(b)"
   ]
  },
  {
   "cell_type": "markdown",
   "id": "ed877743",
   "metadata": {},
   "source": [
    "17.string revese"
   ]
  },
  {
   "cell_type": "code",
   "execution_count": 70,
   "id": "69b87c7a",
   "metadata": {},
   "outputs": [
    {
     "name": "stdout",
     "output_type": "stream",
     "text": [
      "eedder_layor\n",
      "eedder_layor\n"
     ]
    }
   ],
   "source": [
    "s='royal_reddee'\n",
    "print(\"\".join(reversed(s)))\n",
    "print(s[::-1])"
   ]
  },
  {
   "cell_type": "markdown",
   "id": "65559385",
   "metadata": {},
   "source": [
    "18.string palindrome"
   ]
  },
  {
   "cell_type": "code",
   "execution_count": 75,
   "id": "338809b0",
   "metadata": {},
   "outputs": [
    {
     "name": "stdout",
     "output_type": "stream",
     "text": [
      "not a string palindrome\n"
     ]
    }
   ],
   "source": [
    "s=\"ssi\"\n",
    "s1=s[::-1]\n",
    "if s==s1:\n",
    "    print(\"yes\")\n",
    "else :\n",
    "    print(\"not a string palindrome\")"
   ]
  },
  {
   "cell_type": "markdown",
   "id": "c496d522",
   "metadata": {},
   "source": [
    "19.power of a number "
   ]
  },
  {
   "cell_type": "code",
   "execution_count": 85,
   "id": "91c4290f",
   "metadata": {},
   "outputs": [
    {
     "name": "stdout",
     "output_type": "stream",
     "text": [
      "Enter 'number:' and 'power'10 10\n"
     ]
    },
    {
     "data": {
      "text/plain": [
       "10000000000"
      ]
     },
     "execution_count": 85,
     "metadata": {},
     "output_type": "execute_result"
    }
   ],
   "source": [
    "def power_of_num(n,p):\n",
    "    return n**p\n",
    "a,b=[int(x) for x in input(\"Enter 'number:' and 'power'\").split()]\n",
    "power_of_num(a,b)"
   ]
  },
  {
   "cell_type": "markdown",
   "id": "ade6dde2",
   "metadata": {},
   "source": [
    "20.find the largest and smallest number?"
   ]
  },
  {
   "cell_type": "code",
   "execution_count": 93,
   "id": "ef6dc9a6",
   "metadata": {},
   "outputs": [
    {
     "name": "stdout",
     "output_type": "stream",
     "text": [
      "5 120\n"
     ]
    }
   ],
   "source": [
    "lst=[120,5,45,55,100]\n",
    "l=len(lst)\n",
    "lst=sorted(lst)\n",
    "print(lst[0],lst[l-1])"
   ]
  },
  {
   "cell_type": "markdown",
   "id": "f3e00fc6",
   "metadata": {},
   "source": [
    "21.find the second largest and second smallest number?"
   ]
  },
  {
   "cell_type": "code",
   "execution_count": 101,
   "id": "f8962f54",
   "metadata": {},
   "outputs": [
    {
     "name": "stdout",
     "output_type": "stream",
     "text": [
      "[5, 45, 55, 100, 120]\n",
      "45 100\n"
     ]
    }
   ],
   "source": [
    "lst=[120,5,45,55,100]\n",
    "l=len(lst)\n",
    "lst=sorted(lst)\n",
    "print(lst)\n",
    "print(lst[1],lst[l-2])"
   ]
  },
  {
   "cell_type": "markdown",
   "id": "927dcb33",
   "metadata": {},
   "source": [
    "22.write different types of pattern programs"
   ]
  },
  {
   "cell_type": "code",
   "execution_count": 6,
   "id": "f2620f25",
   "metadata": {},
   "outputs": [
    {
     "name": "stdout",
     "output_type": "stream",
     "text": [
      "\n",
      "*\n",
      "**\n",
      "***\n",
      "****\n"
     ]
    }
   ],
   "source": [
    "n=5\n",
    "for i in range(n):\n",
    "    for j in range(i):\n",
    "        print('*', end='')\n",
    "    print()"
   ]
  },
  {
   "cell_type": "code",
   "execution_count": 11,
   "id": "20959bb4",
   "metadata": {},
   "outputs": [
    {
     "name": "stdout",
     "output_type": "stream",
     "text": [
      "0 \n",
      "0 1 \n",
      "0 1 2 \n",
      "0 1 2 3 \n",
      "0 1 2 3 4 \n"
     ]
    }
   ],
   "source": [
    "n=6\n",
    "for i in range(1,n):\n",
    "    for j in range(i):\n",
    "        print(j,end=' ')\n",
    "    print()"
   ]
  },
  {
   "cell_type": "code",
   "execution_count": 12,
   "id": "63553d87",
   "metadata": {},
   "outputs": [
    {
     "name": "stdout",
     "output_type": "stream",
     "text": [
      "1 \n",
      "2 2 \n",
      "3 3 3 \n",
      "4 4 4 4 \n",
      "5 5 5 5 5 \n"
     ]
    }
   ],
   "source": [
    "n=6\n",
    "for i in range(1,n):\n",
    "    for j in range(i):\n",
    "        print(i,end=' ')\n",
    "    print()"
   ]
  },
  {
   "cell_type": "code",
   "execution_count": 15,
   "id": "3a06e718",
   "metadata": {},
   "outputs": [
    {
     "name": "stdout",
     "output_type": "stream",
     "text": [
      " * \n",
      " *  * \n",
      " *  *  * \n",
      " *  *  *  * \n",
      " *  *  *  *  * \n"
     ]
    }
   ],
   "source": [
    "n=6\n",
    "\n",
    "for i in range(1,n):\n",
    "    for j in range(i):\n",
    "        print(' *',end=' ')\n",
    "    print()"
   ]
  },
  {
   "cell_type": "code",
   "execution_count": 23,
   "id": "15d466c3",
   "metadata": {},
   "outputs": [
    {
     "name": "stdout",
     "output_type": "stream",
     "text": [
      "1 1 1 1 1 \n",
      "2 2 2 2 \n",
      "3 3 3 \n",
      "4 4 \n",
      "5 \n"
     ]
    }
   ],
   "source": [
    "n=5\n",
    "b=0\n",
    "for i in range(n,0,-1):\n",
    "    b+=1\n",
    "    for j in range(1,i+1):\n",
    "        print(b,end=' ')\n",
    "    print()\n",
    "    "
   ]
  },
  {
   "cell_type": "code",
   "execution_count": 28,
   "id": "0bf3aa31",
   "metadata": {},
   "outputs": [
    {
     "name": "stdout",
     "output_type": "stream",
     "text": [
      "5 5 5 5 5 \n",
      "4 4 4 4 \n",
      "3 3 3 \n",
      "2 2 \n",
      "1 \n"
     ]
    }
   ],
   "source": [
    "n=5\n",
    "#b=0\n",
    "for i in range(n,0,-1):\n",
    "    for j in range(1,i+1):\n",
    "        print(i,end=' ')\n",
    "    print()\n",
    "    "
   ]
  },
  {
   "cell_type": "code",
   "execution_count": 29,
   "id": "f2c1fca1",
   "metadata": {},
   "outputs": [
    {
     "name": "stdout",
     "output_type": "stream",
     "text": [
      "1 2 3 4 5 \n",
      "1 2 3 4 \n",
      "1 2 3 \n",
      "1 2 \n",
      "1 \n"
     ]
    }
   ],
   "source": [
    "n=5\n",
    "#b=0\n",
    "for i in range(n,0,-1):\n",
    "    for j in range(1,i+1):\n",
    "        print(j,end=' ')\n",
    "    print()\n",
    "    "
   ]
  },
  {
   "cell_type": "code",
   "execution_count": 36,
   "id": "e22678b8",
   "metadata": {},
   "outputs": [
    {
     "name": "stdout",
     "output_type": "stream",
     "text": [
      "1 \n",
      "2 1 \n",
      "3 2 1 \n",
      "4 3 2 1 \n",
      "5 4 3 2 1 \n"
     ]
    }
   ],
   "source": [
    "n=6\n",
    "for i in range(1,n):\n",
    "    for j in range(i,0,-1):\n",
    "        print(j,end=' ')\n",
    "    print()"
   ]
  },
  {
   "cell_type": "code",
   "execution_count": 45,
   "id": "4626aaf4",
   "metadata": {},
   "outputs": [
    {
     "name": "stdout",
     "output_type": "stream",
     "text": [
      "      1\n",
      "     2  1\n",
      "    3  2  1\n",
      "   4  3  2  1\n"
     ]
    }
   ],
   "source": [
    "n=5\n",
    "for i in range(1,n):\n",
    "    for j in range(n,0,-1):\n",
    "        if j>i:\n",
    "            print(' ',end='')\n",
    "        else:\n",
    "            print( ' ',j,end='')\n",
    "    print()"
   ]
  },
  {
   "cell_type": "code",
   "execution_count": 28,
   "id": "c90042cd",
   "metadata": {},
   "outputs": [
    {
     "name": "stdout",
     "output_type": "stream",
     "text": [
      "edder,yajiv\n"
     ]
    }
   ],
   "source": [
    "s='vijay,redde'\n",
    "s1=''\n",
    "for i in s[::-1]:\n",
    "    #for j in \n",
    "    s1+=(i)\n",
    "print(s1)\n"
   ]
  },
  {
   "cell_type": "code",
   "execution_count": 14,
   "id": "ba4741e9",
   "metadata": {},
   "outputs": [
    {
     "name": "stdout",
     "output_type": "stream",
     "text": [
      "reddy\n"
     ]
    }
   ],
   "source": [
    "s = \"\"\n",
    "s1='reddy'\n",
    "for i in s1:\n",
    "    s+=str(i)\n",
    "print(s)"
   ]
  },
  {
   "cell_type": "markdown",
   "id": "21d8b1d5",
   "metadata": {},
   "source": [
    "# linear search"
   ]
  },
  {
   "cell_type": "code",
   "execution_count": 10,
   "id": "b1efc22d",
   "metadata": {},
   "outputs": [
    {
     "name": "stdout",
     "output_type": "stream",
     "text": [
      "enter a key to search:2\n",
      "key was not found\n"
     ]
    }
   ],
   "source": [
    "l=[15,585,8,6,4,5]\n",
    "key=int(input('enter a key to search:'))\n",
    "for i in range(len(l)):\n",
    "    if key==l[i]:\n",
    "        print('key found at pos',i)\n",
    "else:\n",
    "    print('key was not found')"
   ]
  },
  {
   "cell_type": "code",
   "execution_count": 26,
   "id": "0b8beef1",
   "metadata": {},
   "outputs": [
    {
     "name": "stdout",
     "output_type": "stream",
     "text": [
      "[1, 5, 2, 88, 26, 5]\n"
     ]
    }
   ],
   "source": [
    "import sys\n",
    "n=[1,5,2,88,26,5]\n",
    "for i in range(len(n)):\n",
    "    m=i\n",
    "    for j in range(i+1,len(n)):\n",
    "        if n[m]>n[j]:\n",
    "            m=j\n",
    "    n[i],n[m]==n[m],n[i]\n",
    "\n",
    "print(n)\n"
   ]
  },
  {
   "cell_type": "code",
   "execution_count": 29,
   "id": "9f2c117e",
   "metadata": {},
   "outputs": [
    {
     "name": "stdout",
     "output_type": "stream",
     "text": [
      "Sorted array [11, 12, 22, 25, 64]\n"
     ]
    }
   ],
   "source": [
    "# Python program for implementation of Selection\n",
    "# Sort\n",
    "import sys\n",
    "A = [64, 25, 12, 22, 11]\n",
    "\n",
    "# Traverse through all array elements\n",
    "for i in range(len(A)):\n",
    "\n",
    "# Find the minimum element in remaining\n",
    "# unsorted array\n",
    "    min_idx = i\n",
    "    for j in range(i+1, len(A)):\n",
    "        if A[min_idx] > A[j]:\n",
    "            min_idx = j\n",
    "\n",
    "# Swap the found minimum element with\n",
    "# the first element\t\n",
    "    A[i], A[min_idx] = A[min_idx], A[i]\n",
    "\n",
    "# Driver code to test above\n",
    "print (\"Sorted array\" ,A)\n"
   ]
  },
  {
   "cell_type": "code",
   "execution_count": null,
   "id": "2afd687d",
   "metadata": {},
   "outputs": [],
   "source": []
  }
 ],
 "metadata": {
  "kernelspec": {
   "display_name": "Python 3",
   "language": "python",
   "name": "python3"
  },
  "language_info": {
   "codemirror_mode": {
    "name": "ipython",
    "version": 3
   },
   "file_extension": ".py",
   "mimetype": "text/x-python",
   "name": "python",
   "nbconvert_exporter": "python",
   "pygments_lexer": "ipython3",
   "version": "3.8.8"
  }
 },
 "nbformat": 4,
 "nbformat_minor": 5
}
